{
 "cells": [
  {
   "cell_type": "code",
   "execution_count": 15,
   "metadata": {},
   "outputs": [],
   "source": [
    "import pandas as pd\n",
    "from deepchecks.tabular import Dataset\n",
    "from deepchecks.tabular.checks.data_integrity import *\n",
    "from deepchecks.tabular import Dataset"
   ]
  },
  {
   "cell_type": "code",
   "execution_count": 16,
   "metadata": {},
   "outputs": [],
   "source": [
    "data_integrity = [\n",
    "    'ColumnsInfo',\n",
    "    'MixedDataTypes',\n",
    "    'IsSingleValue',\n",
    "    'SpecialCharacters',\n",
    "    'StringLengthOutOfBounds',\n",
    "    'DataDuplicates',\n",
    "    'ConflictingLabels',\n",
    "    'ClassImbalance',\n",
    "    'OutlierSampleDetection',\n",
    "    'FeatureFeatureCorrelation',\n",
    "    'IdentifierLabelCorrelation'\n",
    "]\n",
    "\n",
    "data = {}\n",
    "normal_data = pd.read_csv('../dataset/heart.csv')\n",
    "label = 'HeartDisease'\n",
    "features = ['Age','Sex','ChestPainType','RestingBP','Cholesterol','FastingBS','RestingECG','MaxHR','ExerciseAngina','Oldpeak','ST_Slope']\n",
    "categorical_features = ['Sex','ChestPainType','FastingBS','RestingECG','ExerciseAngina']\n",
    "\n",
    "for item in data_integrity:\n",
    "    file_path = f'../dataset/heart-{item}.csv'  # Construct the file path\n",
    "    data[f'data_{item}'] = pd.read_csv(file_path)\n",
    "\n",
    "# Create a dataset object\n",
    "dataset = {}\n",
    "for item in data_integrity:\n",
    "    dataset[item] = Dataset(data[f'data_{item}'], label = label, cat_features=categorical_features)\n",
    "ds_normal = Dataset(normal_data, label=label, cat_features=features)\n",
    "\n"
   ]
  },
  {
   "cell_type": "code",
   "execution_count": 17,
   "metadata": {},
   "outputs": [
    {
     "data": {
      "application/vnd.jupyter.widget-view+json": {
       "model_id": "0888cd249be241a6bed7548aabb4a2f6",
       "version_major": 2,
       "version_minor": 0
      },
      "text/plain": [
       "VBox(children=(HTML(value='<h4><b>Columns Info</b></h4>'), HTML(value='<p>Return the role and logical type of …"
      ]
     },
     "metadata": {},
     "output_type": "display_data"
    }
   ],
   "source": [
    "## Column info\n",
    "ColumnsInfo().run(dataset['ColumnsInfo'])\n"
   ]
  },
  {
   "cell_type": "code",
   "execution_count": 18,
   "metadata": {},
   "outputs": [
    {
     "data": {
      "application/vnd.jupyter.widget-view+json": {
       "model_id": "65aa77f2ea8649a08f012570d7855ee9",
       "version_major": 2,
       "version_minor": 0
      },
      "text/plain": [
       "VBox(children=(HTML(value='<h4><b>Mixed Data Types</b></h4>'), HTML(value='<p>Detect columns which contain a m…"
      ]
     },
     "metadata": {},
     "output_type": "display_data"
    }
   ],
   "source": [
    "## MixedDataTypes\n",
    "MixedDataTypes().run(dataset['MixedDataTypes'])\n"
   ]
  },
  {
   "cell_type": "code",
   "execution_count": 19,
   "metadata": {},
   "outputs": [],
   "source": [
    "## Is single value\n",
    "# IsSingleValue().run(dataset['IsSingleValue'])\n"
   ]
  },
  {
   "cell_type": "code",
   "execution_count": 20,
   "metadata": {},
   "outputs": [
    {
     "data": {
      "application/vnd.jupyter.widget-view+json": {
       "model_id": "52e59175f62647f19fff8c9b1ba765de",
       "version_major": 2,
       "version_minor": 0
      },
      "text/plain": [
       "VBox(children=(HTML(value='<h4><b>Special Characters</b></h4>'), HTML(value='<p>Search in column[s] for values…"
      ]
     },
     "metadata": {},
     "output_type": "display_data"
    }
   ],
   "source": [
    "## SpecialCharacters\n",
    "SpecialCharacters().run(dataset['SpecialCharacters'])\n"
   ]
  },
  {
   "cell_type": "code",
   "execution_count": 21,
   "metadata": {},
   "outputs": [],
   "source": [
    "# StringLengthOutOfBounds\n",
    "# StringLengthOutOfBounds().run(dataset['StringLengthOutOfBounds'])\n",
    "# print(dataset['StringLengthOutOfBounds'])\n"
   ]
  },
  {
   "cell_type": "code",
   "execution_count": 22,
   "metadata": {},
   "outputs": [
    {
     "data": {
      "application/vnd.jupyter.widget-view+json": {
       "model_id": "a5e7da2b12034a5d865b2baeac497103",
       "version_major": 2,
       "version_minor": 0
      },
      "text/plain": [
       "VBox(children=(HTML(value='<h4><b>Data Duplicates</b></h4>'), HTML(value='<p>Checks for duplicate samples in t…"
      ]
     },
     "metadata": {},
     "output_type": "display_data"
    }
   ],
   "source": [
    "# DataDuplicates\n",
    "DataDuplicates().run(dataset['DataDuplicates'])\n"
   ]
  },
  {
   "cell_type": "code",
   "execution_count": 23,
   "metadata": {},
   "outputs": [
    {
     "data": {
      "application/vnd.jupyter.widget-view+json": {
       "model_id": "38071af3550c44b8a79b89f19142717d",
       "version_major": 2,
       "version_minor": 0
      },
      "text/plain": [
       "VBox(children=(HTML(value='<h4><b>Conflicting Labels</b></h4>'), HTML(value='<p>Find samples which have the ex…"
      ]
     },
     "metadata": {},
     "output_type": "display_data"
    }
   ],
   "source": [
    "# ConflictingLabels\n",
    "ConflictingLabels().run(dataset['ConflictingLabels'])\n"
   ]
  },
  {
   "cell_type": "code",
   "execution_count": 24,
   "metadata": {},
   "outputs": [
    {
     "data": {
      "application/vnd.jupyter.widget-view+json": {
       "model_id": "59fde3d9515c4bf18c14b6826204d54a",
       "version_major": 2,
       "version_minor": 0
      },
      "text/plain": [
       "VBox(children=(HTML(value='<h4><b>Class Imbalance</b></h4>'), HTML(value='<p>Check if a dataset is imbalanced …"
      ]
     },
     "metadata": {},
     "output_type": "display_data"
    }
   ],
   "source": [
    "# ClassImbalance\n",
    "ClassImbalance().run(dataset['ClassImbalance'])\n"
   ]
  },
  {
   "cell_type": "code",
   "execution_count": 25,
   "metadata": {},
   "outputs": [
    {
     "data": {
      "application/vnd.jupyter.widget-view+json": {
       "model_id": "3ba2696daab547f5920901eb4fc2ddb7",
       "version_major": 2,
       "version_minor": 0
      },
      "text/plain": [
       "VBox(children=(HTML(value='<h4><b>Outlier Sample Detection</b></h4>'), HTML(value='<p>Detects outliers in a da…"
      ]
     },
     "metadata": {},
     "output_type": "display_data"
    }
   ],
   "source": [
    "# OutlierSampleDetection\n",
    "OutlierSampleDetection().run(dataset['OutlierSampleDetection'])\n"
   ]
  },
  {
   "cell_type": "code",
   "execution_count": 26,
   "metadata": {},
   "outputs": [
    {
     "data": {
      "application/vnd.jupyter.widget-view+json": {
       "model_id": "4bb2331012974b1b8e4b88c3b795c4cc",
       "version_major": 2,
       "version_minor": 0
      },
      "text/plain": [
       "VBox(children=(HTML(value='<h4><b>Feature-Feature Correlation</b></h4>'), HTML(value='<p>    Checks for pairwi…"
      ]
     },
     "metadata": {},
     "output_type": "display_data"
    }
   ],
   "source": [
    "# FeatureFeatureCorrelation\n",
    "FeatureFeatureCorrelation().run(dataset['FeatureFeatureCorrelation'])\n"
   ]
  },
  {
   "cell_type": "code",
   "execution_count": 27,
   "metadata": {},
   "outputs": [],
   "source": [
    "# IdentifierLabelCorrelation\n",
    "# IdentifierLabelCorrelation().run(dataset['IdentifierLabelCorrelation'])\n"
   ]
  }
 ],
 "metadata": {
  "kernelspec": {
   "display_name": "testing",
   "language": "python",
   "name": "python3"
  },
  "language_info": {
   "codemirror_mode": {
    "name": "ipython",
    "version": 3
   },
   "file_extension": ".py",
   "mimetype": "text/x-python",
   "name": "python",
   "nbconvert_exporter": "python",
   "pygments_lexer": "ipython3",
   "version": "3.10.12"
  }
 },
 "nbformat": 4,
 "nbformat_minor": 2
}
