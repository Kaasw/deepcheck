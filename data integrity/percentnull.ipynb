{
 "cells": [
  {
   "cell_type": "code",
   "execution_count": 2,
   "metadata": {},
   "outputs": [],
   "source": [
    "import pandas as pd\n",
    "from deepchecks.tabular import Dataset\n",
    "from deepchecks.tabular.suites import data_integrity\n",
    "from deepchecks.tabular.checks import PercentOfNulls\n",
    "from deepchecks.tabular import Dataset"
   ]
  },
  {
   "cell_type": "code",
   "execution_count": 16,
   "metadata": {},
   "outputs": [],
   "source": [
    "data_percentnull = pd.read_csv('../dataset/heart-percentofnull.csv')\n",
    "normal_data = pd.read_csv('../dataset/heart.csv')\n",
    "label = 'HeartDisease'\n",
    "features = ['Age','Sex','ChestPainType','RestingBP','Cholesterol','FastingBS','RestingECG','MaxHR','ExerciseAngina','Oldpeak','ST_Slope']\n",
    "ignore_columns = ['Cholesterol', 'RestingECG']\n",
    "\n",
    "ds_percentnull = Dataset(data_percentnull, label=label, cat_features=features)\n",
    "ds_normal = Dataset(normal_data, label=label, cat_features=features)"
   ]
  },
  {
   "cell_type": "code",
   "execution_count": 17,
   "metadata": {},
   "outputs": [
    {
     "data": {
      "application/vnd.jupyter.widget-view+json": {
       "model_id": "7d0ae7239c4940248b1f3453e952d577",
       "version_major": 2,
       "version_minor": 0
      },
      "text/plain": [
       "VBox(children=(HTML(value='<h4><b>PercentOfNulls</b></h4>'), HTML(value='<p>Percent of \\'Null\\' values in each…"
      ]
     },
     "metadata": {},
     "output_type": "display_data"
    }
   ],
   "source": [
    "result = PercentOfNulls().run(ds_percentnull)\n",
    "result.show()"
   ]
  }
 ],
 "metadata": {
  "kernelspec": {
   "display_name": "testing",
   "language": "python",
   "name": "python3"
  },
  "language_info": {
   "codemirror_mode": {
    "name": "ipython",
    "version": 3
   },
   "file_extension": ".py",
   "mimetype": "text/x-python",
   "name": "python",
   "nbconvert_exporter": "python",
   "pygments_lexer": "ipython3",
   "version": "3.10.12"
  }
 },
 "nbformat": 4,
 "nbformat_minor": 2
}
