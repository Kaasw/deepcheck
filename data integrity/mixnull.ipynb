{
 "cells": [
  {
   "cell_type": "code",
   "execution_count": 3,
   "id": "caa3d125-3047-4358-aebd-0e899a70085c",
   "metadata": {},
   "outputs": [],
   "source": [
    "import pandas as pd\n",
    "from deepchecks.tabular import Dataset\n",
    "from deepchecks.tabular.suites import data_integrity\n",
    "from deepchecks.tabular.checks import MixedNulls\n",
    "from deepchecks.tabular import Dataset\n"
   ]
  },
  {
   "cell_type": "code",
   "execution_count": 4,
   "id": "64b5824a",
   "metadata": {},
   "outputs": [],
   "source": [
    "data_mixnull = pd.read_csv('../dataset/heart-mixnull.csv')\n",
    "normal_data = pd.read_csv('../dataset/heart.csv')\n",
    "label = 'HeartDisease'\n",
    "features = ['Age','Sex','ChestPainType','RestingBP','Cholesterol','FastingBS','RestingECG','MaxHR','ExerciseAngina','Oldpeak','ST_Slope']\n",
    "ignore_columns = ['Cholesterol', 'RestingECG']\n",
    "\n",
    "ds_mixnull = Dataset(data_mixnull, label=label, cat_features=features)\n",
    "ds_normal = Dataset(normal_data, label=label, cat_features=features)"
   ]
  },
  {
   "cell_type": "code",
   "execution_count": 5,
   "id": "284b0a15-5b27-4d9a-8df0-48fb0b6c0293",
   "metadata": {},
   "outputs": [
    {
     "data": {
      "application/vnd.jupyter.widget-view+json": {
       "model_id": "790a42d18f724147b593495124f89ef4",
       "version_major": 2,
       "version_minor": 0
      },
      "text/plain": [
       "VBox(children=(HTML(value='<h4><b>Mixed Nulls</b></h4>'), HTML(value='<p>Search for various types of null valu…"
      ]
     },
     "metadata": {},
     "output_type": "display_data"
    }
   ],
   "source": [
    "MixedNulls().run(ds_mixnull).show()"
   ]
  },
  {
   "cell_type": "code",
   "execution_count": 6,
   "id": "e9635dd5-1cdf-4097-81e9-907691bd953a",
   "metadata": {},
   "outputs": [
    {
     "data": {
      "application/vnd.jupyter.widget-view+json": {
       "model_id": "87702c7b4f3e4ba5bb5ec5c8fdb1697d",
       "version_major": 2,
       "version_minor": 0
      },
      "text/plain": [
       "VBox(children=(HTML(value='<h4><b>Mixed Nulls</b></h4>'), HTML(value='<p>Search for various types of null valu…"
      ]
     },
     "metadata": {},
     "output_type": "display_data"
    }
   ],
   "source": [
    "MixedNulls().run(ds_normal).show()"
   ]
  }
 ],
 "metadata": {
  "kernelspec": {
   "display_name": "testing",
   "language": "python",
   "name": "python3"
  },
  "language_info": {
   "codemirror_mode": {
    "name": "ipython",
    "version": 3
   },
   "file_extension": ".py",
   "mimetype": "text/x-python",
   "name": "python",
   "nbconvert_exporter": "python",
   "pygments_lexer": "ipython3",
   "version": "3.10.12"
  }
 },
 "nbformat": 4,
 "nbformat_minor": 5
}
